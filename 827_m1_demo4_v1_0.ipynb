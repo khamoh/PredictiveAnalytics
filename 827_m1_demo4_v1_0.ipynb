{
  "nbformat": 4,
  "nbformat_minor": 0,
  "metadata": {
    "kernelspec": {
      "display_name": "Python 3",
      "language": "python",
      "name": "python3"
    },
    "language_info": {
      "codemirror_mode": {
        "name": "ipython",
        "version": 3
      },
      "file_extension": ".py",
      "mimetype": "text/x-python",
      "name": "python",
      "nbconvert_exporter": "python",
      "pygments_lexer": "ipython3",
      "version": "3.7.3"
    },
    "colab": {
      "name": "827_m1_demo4_v1.0.ipynb",
      "provenance": [],
      "include_colab_link": true
    }
  },
  "cells": [
    {
      "cell_type": "markdown",
      "metadata": {
        "id": "view-in-github",
        "colab_type": "text"
      },
      "source": [
        "<a href=\"https://colab.research.google.com/github/khamoh/PredictiveAnalytics/blob/master/827_m1_demo4_v1_0.ipynb\" target=\"_parent\"><img src=\"https://colab.research.google.com/assets/colab-badge.svg\" alt=\"Open In Colab\"/></a>"
      ]
    },
    {
      "cell_type": "code",
      "metadata": {
        "id": "0S79nTBhSBjV",
        "colab_type": "code",
        "colab": {}
      },
      "source": [
        "# Import all the required libraries \n",
        "import pandas as pd\n",
        "import numpy as np"
      ],
      "execution_count": 0,
      "outputs": []
    },
    {
      "cell_type": "code",
      "metadata": {
        "id": "s4Nw0GF-SBj0",
        "colab_type": "code",
        "colab": {},
        "outputId": "6e8724cf-eee2-4f73-9c98-310145f516e9"
      },
      "source": [
        "# Load the required file\n",
        "df=pd.read_csv('Supermarket.csv')\n",
        "df.head()"
      ],
      "execution_count": 0,
      "outputs": [
        {
          "output_type": "execute_result",
          "data": {
            "text/html": [
              "<div>\n",
              "<style scoped>\n",
              "    .dataframe tbody tr th:only-of-type {\n",
              "        vertical-align: middle;\n",
              "    }\n",
              "\n",
              "    .dataframe tbody tr th {\n",
              "        vertical-align: top;\n",
              "    }\n",
              "\n",
              "    .dataframe thead th {\n",
              "        text-align: right;\n",
              "    }\n",
              "</style>\n",
              "<table border=\"1\" class=\"dataframe\">\n",
              "  <thead>\n",
              "    <tr style=\"text-align: right;\">\n",
              "      <th></th>\n",
              "      <th>ProductCode</th>\n",
              "      <th>Date</th>\n",
              "      <th>Amount</th>\n",
              "      <th>Received Cash</th>\n",
              "      <th>CashierName</th>\n",
              "    </tr>\n",
              "  </thead>\n",
              "  <tbody>\n",
              "    <tr>\n",
              "      <th>0</th>\n",
              "      <td>LBVT18010004435</td>\n",
              "      <td>01-05-2018 12:36</td>\n",
              "      <td>1121.2</td>\n",
              "      <td>1121.2</td>\n",
              "      <td>MAYTE</td>\n",
              "    </tr>\n",
              "    <tr>\n",
              "      <th>1</th>\n",
              "      <td>LBVT18010004436</td>\n",
              "      <td>01-05-2018 12:37</td>\n",
              "      <td>18.5</td>\n",
              "      <td>20.0</td>\n",
              "      <td>MAYTE</td>\n",
              "    </tr>\n",
              "    <tr>\n",
              "      <th>2</th>\n",
              "      <td>LBVT18010004437</td>\n",
              "      <td>01-05-2018 12:38</td>\n",
              "      <td>160.0</td>\n",
              "      <td>200.0</td>\n",
              "      <td>MAYTE</td>\n",
              "    </tr>\n",
              "    <tr>\n",
              "      <th>3</th>\n",
              "      <td>LBVT18010004438</td>\n",
              "      <td>01-05-2018 12:47</td>\n",
              "      <td>397.5</td>\n",
              "      <td>397.5</td>\n",
              "      <td>MAYTE</td>\n",
              "    </tr>\n",
              "    <tr>\n",
              "      <th>4</th>\n",
              "      <td>LBVT18010004439</td>\n",
              "      <td>01-05-2018 12:48</td>\n",
              "      <td>22.0</td>\n",
              "      <td>50.0</td>\n",
              "      <td>MAYTE</td>\n",
              "    </tr>\n",
              "  </tbody>\n",
              "</table>\n",
              "</div>"
            ],
            "text/plain": [
              "       ProductCode              Date  Amount  Received Cash CashierName\n",
              "0  LBVT18010004435  01-05-2018 12:36  1121.2         1121.2       MAYTE\n",
              "1  LBVT18010004436  01-05-2018 12:37    18.5           20.0       MAYTE\n",
              "2  LBVT18010004437  01-05-2018 12:38   160.0          200.0       MAYTE\n",
              "3  LBVT18010004438  01-05-2018 12:47   397.5          397.5       MAYTE\n",
              "4  LBVT18010004439  01-05-2018 12:48    22.0           50.0       MAYTE"
            ]
          },
          "metadata": {
            "tags": []
          },
          "execution_count": 2
        }
      ]
    },
    {
      "cell_type": "code",
      "metadata": {
        "id": "YsZd7_4ySBkO",
        "colab_type": "code",
        "colab": {},
        "outputId": "20984fdd-d09a-46c7-e9cd-6902ee771ebc"
      },
      "source": [
        "# To find the mean of Amount\n",
        "(print('The mean Amount is:',round(df.Amount.mean(),2)))\n"
      ],
      "execution_count": 0,
      "outputs": [
        {
          "output_type": "stream",
          "text": [
            "The mean Amount is: 189.78\n"
          ],
          "name": "stdout"
        }
      ]
    },
    {
      "cell_type": "code",
      "metadata": {
        "id": "G6hYMVSnSBkh",
        "colab_type": "code",
        "colab": {},
        "outputId": "bd68eed0-b6a5-4d30-e017-c35626a2512f"
      },
      "source": [
        "# To find the median of Amount\n",
        "print('The median of Amount is:',(df.Amount.median()))"
      ],
      "execution_count": 0,
      "outputs": [
        {
          "output_type": "stream",
          "text": [
            "The median of Amount is: 95.0\n"
          ],
          "name": "stdout"
        }
      ]
    },
    {
      "cell_type": "code",
      "metadata": {
        "id": "Nh2REy98SBkz",
        "colab_type": "code",
        "colab": {},
        "outputId": "f9e565a6-d841-4d3c-d078-2c65757a7888"
      },
      "source": [
        "# To find the mode of Amount\n",
        "print('The mode of Amount is:',(df.Amount.mode()))"
      ],
      "execution_count": 0,
      "outputs": [
        {
          "output_type": "stream",
          "text": [
            "The mode of Amount is: 0    50.0\n",
            "dtype: float64\n"
          ],
          "name": "stdout"
        }
      ]
    },
    {
      "cell_type": "code",
      "metadata": {
        "id": "GCNY06LVSBlD",
        "colab_type": "code",
        "colab": {},
        "outputId": "5d8799db-51a3-40fc-899c-e56e016912ce"
      },
      "source": [
        "# To find the range of Amount \n",
        "print(\"Range for Amount:\",np.ptp(df.Amount,axis=0))\n"
      ],
      "execution_count": 0,
      "outputs": [
        {
          "output_type": "stream",
          "text": [
            "Range for Amount: 15036.8\n"
          ],
          "name": "stdout"
        },
        {
          "output_type": "stream",
          "text": [
            "/opt/conda/lib/python3.7/site-packages/numpy/core/fromnumeric.py:2389: FutureWarning: Method .ptp is deprecated and will be removed in a future version. Use numpy.ptp instead.\n",
            "  return ptp(axis=axis, out=out, **kwargs)\n"
          ],
          "name": "stderr"
        }
      ]
    },
    {
      "cell_type": "code",
      "metadata": {
        "id": "nDZ2vpcNSBlQ",
        "colab_type": "code",
        "colab": {},
        "outputId": "8e583784-653f-482d-d2e3-e31a6d89ee2c"
      },
      "source": [
        "# Use iqr from scipy.stats library\n",
        "from scipy.stats import iqr\n",
        "print('The inter quartile range is:',(iqr(df['Amount'],axis=0)))"
      ],
      "execution_count": 0,
      "outputs": [
        {
          "output_type": "stream",
          "text": [
            "The inter quartile range is: 189.7\n"
          ],
          "name": "stdout"
        }
      ]
    },
    {
      "cell_type": "code",
      "metadata": {
        "id": "11aAhrWwSBli",
        "colab_type": "code",
        "colab": {},
        "outputId": "48960681-17d2-49d9-eb24-dedc96f666bb"
      },
      "source": [
        "# To find the deviation of Amount\n",
        "print('The Standard Deviation of Amount is: ',round(np.std(df['Amount'],axis=0),2))"
      ],
      "execution_count": 0,
      "outputs": [
        {
          "output_type": "stream",
          "text": [
            "The Standard Deviation of Amount is:  284.03\n"
          ],
          "name": "stdout"
        }
      ]
    },
    {
      "cell_type": "code",
      "metadata": {
        "id": "8V2veMgXSBlv",
        "colab_type": "code",
        "colab": {},
        "outputId": "0b5f090b-1c2d-4b76-bc68-441f7d8c088f"
      },
      "source": [
        "# To find the variance of Amount\n",
        "print('The Variance of Amount is: ',round(np.var(df['Amount'],axis=0),2))"
      ],
      "execution_count": 0,
      "outputs": [
        {
          "output_type": "stream",
          "text": [
            "The Variance of Amount is:  80673.58\n"
          ],
          "name": "stdout"
        }
      ]
    }
  ]
}