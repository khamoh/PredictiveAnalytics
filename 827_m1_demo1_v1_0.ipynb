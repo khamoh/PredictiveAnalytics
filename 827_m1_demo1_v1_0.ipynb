{
  "nbformat": 4,
  "nbformat_minor": 0,
  "metadata": {
    "kernelspec": {
      "display_name": "Python 3",
      "language": "python",
      "name": "python3"
    },
    "language_info": {
      "codemirror_mode": {
        "name": "ipython",
        "version": 3
      },
      "file_extension": ".py",
      "mimetype": "text/x-python",
      "name": "python",
      "nbconvert_exporter": "python",
      "pygments_lexer": "ipython3",
      "version": "3.6.7"
    },
    "colab": {
      "name": "827_m1_demo1_v1.0.ipynb",
      "provenance": [],
      "include_colab_link": true
    }
  },
  "cells": [
    {
      "cell_type": "markdown",
      "metadata": {
        "id": "view-in-github",
        "colab_type": "text"
      },
      "source": [
        "<a href=\"https://colab.research.google.com/github/khamoh/PredictiveAnalytics/blob/master/827_m1_demo1_v1_0.ipynb\" target=\"_parent\"><img src=\"https://colab.research.google.com/assets/colab-badge.svg\" alt=\"Open In Colab\"/></a>"
      ]
    },
    {
      "cell_type": "markdown",
      "metadata": {
        "id": "IL9aMZiCSnmk",
        "colab_type": "text"
      },
      "source": [
        "# Predictive Analytics\n",
        "# Module 1 - Statistical Foundations\n",
        "## Demo 1 - Data I/O & Data Types"
      ]
    },
    {
      "cell_type": "markdown",
      "metadata": {
        "id": "bRVfvq61Snmr",
        "colab_type": "text"
      },
      "source": [
        "### Use-Case: Predict Future Sales"
      ]
    },
    {
      "cell_type": "markdown",
      "metadata": {
        "id": "8vislW7fSnms",
        "colab_type": "text"
      },
      "source": [
        "### Load Data"
      ]
    },
    {
      "cell_type": "code",
      "metadata": {
        "id": "PED4E1JrSnmu",
        "colab_type": "code",
        "colab": {}
      },
      "source": [
        "import pandas as pd"
      ],
      "execution_count": 0,
      "outputs": []
    },
    {
      "cell_type": "code",
      "metadata": {
        "id": "7Zj6oWe1Snm5",
        "colab_type": "code",
        "colab": {}
      },
      "source": [
        "items = pd.read_csv(\"items.csv\")\n",
        "shops = pd.read_csv(\"shops.csv\")\n",
        "cats = pd.read_csv(\"item_categories.csv\")\n",
        "train = pd.read_csv(\"sales_train.csv\")"
      ],
      "execution_count": 0,
      "outputs": []
    },
    {
      "cell_type": "markdown",
      "metadata": {
        "id": "CM5jezqwSnnB",
        "colab_type": "text"
      },
      "source": [
        "### Look at the first five rows"
      ]
    },
    {
      "cell_type": "code",
      "metadata": {
        "id": "ObnwO__USnnC",
        "colab_type": "code",
        "colab": {},
        "outputId": "4e90569f-0c66-41ed-d723-fda76d9d0477"
      },
      "source": [
        "train.head()"
      ],
      "execution_count": 0,
      "outputs": [
        {
          "output_type": "execute_result",
          "data": {
            "text/html": [
              "<div>\n",
              "<style scoped>\n",
              "    .dataframe tbody tr th:only-of-type {\n",
              "        vertical-align: middle;\n",
              "    }\n",
              "\n",
              "    .dataframe tbody tr th {\n",
              "        vertical-align: top;\n",
              "    }\n",
              "\n",
              "    .dataframe thead th {\n",
              "        text-align: right;\n",
              "    }\n",
              "</style>\n",
              "<table border=\"1\" class=\"dataframe\">\n",
              "  <thead>\n",
              "    <tr style=\"text-align: right;\">\n",
              "      <th></th>\n",
              "      <th>date</th>\n",
              "      <th>date_block_num</th>\n",
              "      <th>shop_id</th>\n",
              "      <th>item_id</th>\n",
              "      <th>item_price</th>\n",
              "      <th>item_cnt_day</th>\n",
              "    </tr>\n",
              "  </thead>\n",
              "  <tbody>\n",
              "    <tr>\n",
              "      <th>0</th>\n",
              "      <td>02.01.2013</td>\n",
              "      <td>0</td>\n",
              "      <td>59</td>\n",
              "      <td>22154</td>\n",
              "      <td>999.00</td>\n",
              "      <td>1.0</td>\n",
              "    </tr>\n",
              "    <tr>\n",
              "      <th>1</th>\n",
              "      <td>03.01.2013</td>\n",
              "      <td>0</td>\n",
              "      <td>25</td>\n",
              "      <td>2552</td>\n",
              "      <td>899.00</td>\n",
              "      <td>1.0</td>\n",
              "    </tr>\n",
              "    <tr>\n",
              "      <th>2</th>\n",
              "      <td>05.01.2013</td>\n",
              "      <td>0</td>\n",
              "      <td>25</td>\n",
              "      <td>2552</td>\n",
              "      <td>899.00</td>\n",
              "      <td>-1.0</td>\n",
              "    </tr>\n",
              "    <tr>\n",
              "      <th>3</th>\n",
              "      <td>06.01.2013</td>\n",
              "      <td>0</td>\n",
              "      <td>25</td>\n",
              "      <td>2554</td>\n",
              "      <td>1709.05</td>\n",
              "      <td>1.0</td>\n",
              "    </tr>\n",
              "    <tr>\n",
              "      <th>4</th>\n",
              "      <td>15.01.2013</td>\n",
              "      <td>0</td>\n",
              "      <td>25</td>\n",
              "      <td>2555</td>\n",
              "      <td>1099.00</td>\n",
              "      <td>1.0</td>\n",
              "    </tr>\n",
              "  </tbody>\n",
              "</table>\n",
              "</div>"
            ],
            "text/plain": [
              "         date  date_block_num  shop_id  item_id  item_price  item_cnt_day\n",
              "0  02.01.2013               0       59    22154      999.00           1.0\n",
              "1  03.01.2013               0       25     2552      899.00           1.0\n",
              "2  05.01.2013               0       25     2552      899.00          -1.0\n",
              "3  06.01.2013               0       25     2554     1709.05           1.0\n",
              "4  15.01.2013               0       25     2555     1099.00           1.0"
            ]
          },
          "metadata": {
            "tags": []
          },
          "execution_count": 3
        }
      ]
    },
    {
      "cell_type": "markdown",
      "metadata": {
        "id": "ZLoYhuJfSnnN",
        "colab_type": "text"
      },
      "source": [
        "### Dimensions of Data"
      ]
    },
    {
      "cell_type": "code",
      "metadata": {
        "id": "XQJNFkAkSnnP",
        "colab_type": "code",
        "colab": {},
        "outputId": "996abf3b-dcc4-4c02-d5c2-4e526fd980f3"
      },
      "source": [
        "train.shape"
      ],
      "execution_count": 0,
      "outputs": [
        {
          "output_type": "execute_result",
          "data": {
            "text/plain": [
              "(2935849, 6)"
            ]
          },
          "metadata": {
            "tags": []
          },
          "execution_count": 4
        }
      ]
    },
    {
      "cell_type": "code",
      "metadata": {
        "id": "umk77JR7SnnY",
        "colab_type": "code",
        "colab": {},
        "outputId": "0f6b3745-043d-4364-9758-b1c39bd568e6"
      },
      "source": [
        "print(\"Categories:\",cats.shape)\n",
        "print(\"Items:\",items.shape)\n",
        "print(\"Shops:\",shops.shape)\n",
        "print(\"Train:\",train.shape)"
      ],
      "execution_count": 0,
      "outputs": [
        {
          "output_type": "stream",
          "text": [
            "Categories: (84, 2)\n",
            "Items: (22170, 3)\n",
            "Shops: (60, 2)\n",
            "Train: (2935849, 6)\n"
          ],
          "name": "stdout"
        }
      ]
    },
    {
      "cell_type": "markdown",
      "metadata": {
        "id": "NRMZ2pzgSnng",
        "colab_type": "text"
      },
      "source": [
        "### Data type for each attribute"
      ]
    },
    {
      "cell_type": "code",
      "metadata": {
        "id": "XidYC-DWSnni",
        "colab_type": "code",
        "colab": {},
        "outputId": "49323c2f-8390-444c-ee87-3c258f0a77bb"
      },
      "source": [
        "train.dtypes"
      ],
      "execution_count": 0,
      "outputs": [
        {
          "output_type": "execute_result",
          "data": {
            "text/plain": [
              "date               object\n",
              "date_block_num      int64\n",
              "shop_id             int64\n",
              "item_id             int64\n",
              "item_price        float64\n",
              "item_cnt_day      float64\n",
              "dtype: object"
            ]
          },
          "metadata": {
            "tags": []
          },
          "execution_count": 6
        }
      ]
    }
  ]
}